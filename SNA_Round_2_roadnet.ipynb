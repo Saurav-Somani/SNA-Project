{
  "nbformat": 4,
  "nbformat_minor": 0,
  "metadata": {
    "colab": {
      "name": "SNA_Round_2_roadnet.ipynb",
      "provenance": [],
      "collapsed_sections": [],
      "authorship_tag": "ABX9TyNQiCj1hWcf9GFcDxyRnHxL",
      "include_colab_link": true
    },
    "kernelspec": {
      "name": "python3",
      "display_name": "Python 3"
    },
    "language_info": {
      "name": "python"
    }
  },
  "cells": [
    {
      "cell_type": "markdown",
      "metadata": {
        "id": "view-in-github",
        "colab_type": "text"
      },
      "source": [
        "<a href=\"https://colab.research.google.com/github/Saurav-Somani/SNA-Project/blob/main/SNA_Round_2_roadnet.ipynb\" target=\"_parent\"><img src=\"https://colab.research.google.com/assets/colab-badge.svg\" alt=\"Open In Colab\"/></a>"
      ]
    },
    {
      "cell_type": "code",
      "execution_count": null,
      "metadata": {
        "id": "6VEDGVezzCCP"
      },
      "outputs": [],
      "source": [
        "import pandas as pd\n",
        "import numpy as np\n",
        "import networkx as nx\n",
        "import matplotlib.pyplot as plt\n",
        "import matplotlib.colors as mcolors\n",
        "import csv\n",
        "import random"
      ]
    },
    {
      "cell_type": "code",
      "source": [
        "from google.colab import drive\n",
        "drive.mount('/content/drive')"
      ],
      "metadata": {
        "colab": {
          "base_uri": "https://localhost:8080/"
        },
        "id": "r9aMlecUzRuk",
        "outputId": "47c952e1-6032-4ea7-bb15-616b5b2c4f28"
      },
      "execution_count": null,
      "outputs": [
        {
          "output_type": "stream",
          "name": "stdout",
          "text": [
            "Mounted at /content/drive\n"
          ]
        }
      ]
    },
    {
      "cell_type": "code",
      "source": [
        "path = \"/content/drive/My Drive/SNA Project/roadNet-TX.txt\""
      ],
      "metadata": {
        "id": "cuQMppmbzU3-"
      },
      "execution_count": null,
      "outputs": []
    },
    {
      "cell_type": "code",
      "source": [
        "G = nx.read_edgelist(path,nodetype=int,create_using=nx.Graph())\n",
        "print(nx.info(G))"
      ],
      "metadata": {
        "colab": {
          "base_uri": "https://localhost:8080/"
        },
        "id": "yzLibM3kzXhs",
        "outputId": "ca8933cf-addf-49b5-a183-2772afd34124"
      },
      "execution_count": null,
      "outputs": [
        {
          "output_type": "stream",
          "name": "stdout",
          "text": [
            "Graph with 1379917 nodes and 1921660 edges\n"
          ]
        }
      ]
    },
    {
      "cell_type": "markdown",
      "source": [
        "# **Giant Component**"
      ],
      "metadata": {
        "id": "yF7_vjp7z1Nk"
      }
    },
    {
      "cell_type": "code",
      "source": [
        "strongly_connected_comp = nx.connected_components(G)\n",
        "print(nx.info(strongly_connected_comp))\n"
      ],
      "metadata": {
        "colab": {
          "base_uri": "https://localhost:8080/"
        },
        "id": "vGlpvs9yz8sH",
        "outputId": "7fdbf6e4-3e18-4aba-d476-da331198b697"
      },
      "execution_count": null,
      "outputs": [
        {
          "output_type": "stream",
          "name": "stdout",
          "text": [
            "<generator object connected_components at 0x7f3e06d56f50>\n"
          ]
        }
      ]
    },
    {
      "cell_type": "code",
      "source": [
        "connected_comp = max(strongly_connected_comp, key = len)\n",
        "N_G = len(connected_comp)\n",
        "N_G"
      ],
      "metadata": {
        "colab": {
          "base_uri": "https://localhost:8080/"
        },
        "id": "Pu01sDAT0dIQ",
        "outputId": "cdc6404f-2445-4583-a621-ae207de2c88e"
      },
      "execution_count": null,
      "outputs": [
        {
          "output_type": "execute_result",
          "data": {
            "text/plain": [
              "1351137"
            ]
          },
          "metadata": {},
          "execution_count": 6
        }
      ]
    },
    {
      "cell_type": "code",
      "source": [
        "N = len(G)\n",
        "N"
      ],
      "metadata": {
        "colab": {
          "base_uri": "https://localhost:8080/"
        },
        "id": "xsJ2fqywPYaE",
        "outputId": "f5ba3d9f-95b3-439b-c67f-beb12f1ab5d7"
      },
      "execution_count": null,
      "outputs": [
        {
          "output_type": "execute_result",
          "data": {
            "text/plain": [
              "1379917"
            ]
          },
          "metadata": {},
          "execution_count": 8
        }
      ]
    },
    {
      "cell_type": "code",
      "source": [
        "N_G/N"
      ],
      "metadata": {
        "id": "e0JhdAY3P4FH",
        "outputId": "175d8287-0369-4cdb-9d90-af8fa23c32f8",
        "colab": {
          "base_uri": "https://localhost:8080/"
        }
      },
      "execution_count": null,
      "outputs": [
        {
          "output_type": "execute_result",
          "data": {
            "text/plain": [
              "0.9791436731339639"
            ]
          },
          "metadata": {},
          "execution_count": 9
        }
      ]
    }
  ]
}