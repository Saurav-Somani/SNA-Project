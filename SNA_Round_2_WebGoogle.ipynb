{
  "nbformat": 4,
  "nbformat_minor": 0,
  "metadata": {
    "colab": {
      "name": "SNA_Round_2_WebGoogle.ipynb",
      "provenance": [],
      "authorship_tag": "ABX9TyNKyLeD9JFN4LF9xQOzmTl9",
      "include_colab_link": true
    },
    "kernelspec": {
      "name": "python3",
      "display_name": "Python 3"
    },
    "language_info": {
      "name": "python"
    }
  },
  "cells": [
    {
      "cell_type": "markdown",
      "metadata": {
        "id": "view-in-github",
        "colab_type": "text"
      },
      "source": [
        "<a href=\"https://colab.research.google.com/github/Saurav-Somani/SNA-Project/blob/main/SNA_Round_2_WebGoogle.ipynb\" target=\"_parent\"><img src=\"https://colab.research.google.com/assets/colab-badge.svg\" alt=\"Open In Colab\"/></a>"
      ]
    },
    {
      "cell_type": "code",
      "execution_count": null,
      "metadata": {
        "id": "skgU5eCuQNIr"
      },
      "outputs": [],
      "source": [
        "import pandas as pd\n",
        "import numpy as np\n",
        "import networkx as nx\n",
        "import matplotlib.pyplot as plt\n",
        "import matplotlib.colors as mcolors\n",
        "import csv\n",
        "import random"
      ]
    },
    {
      "cell_type": "code",
      "source": [
        "from google.colab import drive\n",
        "drive.mount('/content/drive')"
      ],
      "metadata": {
        "colab": {
          "base_uri": "https://localhost:8080/"
        },
        "id": "OA-unC45Qbib",
        "outputId": "cacf2a50-4a76-42d8-bc65-0a8f942fab67"
      },
      "execution_count": null,
      "outputs": [
        {
          "output_type": "stream",
          "name": "stdout",
          "text": [
            "Mounted at /content/drive\n"
          ]
        }
      ]
    },
    {
      "cell_type": "code",
      "source": [
        "path = \"/content/drive/My Drive/SNA Project/web-Google.txt\""
      ],
      "metadata": {
        "id": "g7CGjxo0QdbI"
      },
      "execution_count": null,
      "outputs": []
    },
    {
      "cell_type": "code",
      "source": [
        "G = nx.read_edgelist(path,nodetype=int,create_using=nx.DiGraph())\n",
        "print(nx.info(G))"
      ],
      "metadata": {
        "colab": {
          "base_uri": "https://localhost:8080/"
        },
        "id": "65KIKyVLQg5u",
        "outputId": "0490469d-ba98-4fdc-c667-c9e7defef9a9"
      },
      "execution_count": null,
      "outputs": [
        {
          "output_type": "stream",
          "name": "stdout",
          "text": [
            "DiGraph with 875713 nodes and 5105039 edges\n"
          ]
        }
      ]
    },
    {
      "cell_type": "markdown",
      "source": [
        "# **Giant Component**"
      ],
      "metadata": {
        "id": "S-WHORfkQsBw"
      }
    },
    {
      "cell_type": "code",
      "source": [
        "strongly_connected_comp = nx.strongly_connected_components(G)"
      ],
      "metadata": {
        "id": "53qidpg-Qw6n"
      },
      "execution_count": null,
      "outputs": []
    },
    {
      "cell_type": "code",
      "source": [
        "connected_comp = max(strongly_connected_comp, key = len)\n",
        "N_G = len(connected_comp)\n",
        "N_G"
      ],
      "metadata": {
        "colab": {
          "base_uri": "https://localhost:8080/"
        },
        "id": "C0-wewQ6Q1rk",
        "outputId": "250c13f6-5108-4676-d05a-e842baa1a30e"
      },
      "execution_count": null,
      "outputs": [
        {
          "output_type": "execute_result",
          "data": {
            "text/plain": [
              "434818"
            ]
          },
          "metadata": {},
          "execution_count": 6
        }
      ]
    },
    {
      "cell_type": "code",
      "source": [
        "N = len(G)\n",
        "N"
      ],
      "metadata": {
        "colab": {
          "base_uri": "https://localhost:8080/"
        },
        "id": "3fCvAD6bQ5Bw",
        "outputId": "1095c4ef-5304-4b4e-ac62-315db6ef4ba2"
      },
      "execution_count": null,
      "outputs": [
        {
          "output_type": "execute_result",
          "data": {
            "text/plain": [
              "875713"
            ]
          },
          "metadata": {},
          "execution_count": 7
        }
      ]
    },
    {
      "cell_type": "code",
      "source": [
        "N_G/N"
      ],
      "metadata": {
        "colab": {
          "base_uri": "https://localhost:8080/"
        },
        "id": "sxnlJJk9Q7TR",
        "outputId": "b6fa6d3b-156f-48fd-af1a-87e0a4de648c"
      },
      "execution_count": null,
      "outputs": [
        {
          "output_type": "execute_result",
          "data": {
            "text/plain": [
              "0.49653025591717836"
            ]
          },
          "metadata": {},
          "execution_count": 8
        }
      ]
    }
  ]
}