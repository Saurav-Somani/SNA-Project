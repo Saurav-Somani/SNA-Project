{
  "nbformat": 4,
  "nbformat_minor": 0,
  "metadata": {
    "colab": {
      "name": "SNA_Round_2_ICM.ipynb",
      "provenance": [],
      "collapsed_sections": [],
      "authorship_tag": "ABX9TyOO7fUBQgrw568eZk3xDafO",
      "include_colab_link": true
    },
    "kernelspec": {
      "name": "python3",
      "display_name": "Python 3"
    },
    "language_info": {
      "name": "python"
    }
  },
  "cells": [
    {
      "cell_type": "markdown",
      "metadata": {
        "id": "view-in-github",
        "colab_type": "text"
      },
      "source": [
        "<a href=\"https://colab.research.google.com/github/Saurav-Somani/SNA-Project/blob/main/SNA_Round_2_ICM.ipynb\" target=\"_parent\"><img src=\"https://colab.research.google.com/assets/colab-badge.svg\" alt=\"Open In Colab\"/></a>"
      ]
    },
    {
      "cell_type": "code",
      "execution_count": 1,
      "metadata": {
        "id": "cSUAAe8QTOm8"
      },
      "outputs": [],
      "source": [
        "import networkx as nx\n",
        "import matplotlib.pyplot as plt\n",
        "import random \n",
        "import numpy as np"
      ]
    },
    {
      "cell_type": "markdown",
      "source": [
        "**Creating scale free network**"
      ],
      "metadata": {
        "id": "GqRFetd7Tc0M"
      }
    },
    {
      "cell_type": "code",
      "source": [
        "from queue import Queue\n",
        "g = nx.barabasi_albert_graph(11000, 25)\n",
        "\n",
        "print('\\n----------------------------------------------------------------------------------------------------------------------\\n')\n",
        "print('ASSIGNING ACTIVATION PROBABILITIES\\n')\n",
        "nx.set_edge_attributes(g, values=0, name='weight')\n",
        "arr = [[False] * 11000 for i in range(11000)]\n",
        "vis = set()\n",
        "q = Queue()\n",
        "vis.add(0)\n",
        "q.put(0)\n",
        "\n",
        "while not q.empty():\n",
        "    u = q.get()\n",
        "\n",
        "    vis.add(u)\n",
        "    x = 1\n",
        "    f = 0\n",
        "\n",
        "    for v in g.neighbors(u):\n",
        "        if v not in vis:\n",
        "            vis.add(v)\n",
        "            q.put(v)\n",
        "\n",
        "        if arr[u][v] is True or arr[v][u] is True:\n",
        "            x -= g[u][v]['weight']\n",
        "        else:\n",
        "            f += 1\n",
        "\n",
        "    k = 0\n",
        "    lst = np.random.dirichlet(np.ones(f), size=1).tolist()[0]\n",
        "\n",
        "    for v in g.neighbors(u):\n",
        "        if arr[u][v] is False or arr[v][u] is False:\n",
        "            arr[u][v] = arr[v][u] = True\n",
        "            g[u][v]['weight'] = lst[k] * max(x, 0)\n",
        "            k += 1"
      ],
      "metadata": {
        "colab": {
          "base_uri": "https://localhost:8080/"
        },
        "id": "BLfPBBIoRChU",
        "outputId": "6038d361-ec0f-4c5b-e84f-e71ac5ed0b89"
      },
      "execution_count": 2,
      "outputs": [
        {
          "output_type": "stream",
          "name": "stdout",
          "text": [
            "\n",
            "----------------------------------------------------------------------------------------------------------------------\n",
            "\n",
            "ASSIGNING ACTIVATION PROBABILITIES\n",
            "\n"
          ]
        }
      ]
    },
    {
      "cell_type": "code",
      "source": [
        "\n",
        "for itr in range(0, 10):\n",
        "    r = random.randint(0, 11000)\n",
        "    vis = set()\n",
        "    q = Queue()\n",
        "    q.put(r)\n",
        "    activated = set()\n",
        "    activated.add(r)\n",
        "    steps = 0\n",
        "    print(\"Initial set - \" + str(activated))\n",
        "\n",
        "    while not q.empty():\n",
        "        steps += 1\n",
        "        u = q.get()\n",
        "\n",
        "        for v in g.neighbors(u):\n",
        "            if v not in activated:\n",
        "                rand = random.uniform(0, 1)\n",
        "                if rand < g[u][v]['weight']:\n",
        "                    q.put(v)\n",
        "                    activated.add(v)\n",
        "\n",
        "    print(\"Steps - \" + str(steps))\n",
        "    print(\"Activated nodes - \" + str(activated))\n",
        "    print()\n"
      ],
      "metadata": {
        "colab": {
          "base_uri": "https://localhost:8080/"
        },
        "id": "RR6wykWwQxBw",
        "outputId": "53e25a55-b23c-45bf-ab31-5c59e7ca5bcd"
      },
      "execution_count": 3,
      "outputs": [
        {
          "output_type": "stream",
          "name": "stdout",
          "text": [
            "Initial set - {9557}\n",
            "Steps - 2\n",
            "Activated nodes - {9939, 9557}\n",
            "\n",
            "Initial set - {376}\n",
            "Steps - 12\n",
            "Activated nodes - {5121, 4234, 8459, 7692, 1901, 6507, 4787, 3091, 8403, 503, 376, 7326}\n",
            "\n",
            "Initial set - {7074}\n",
            "Steps - 9\n",
            "Activated nodes - {7074, 934, 134, 6728, 4839, 8274, 5976, 8345, 6909}\n",
            "\n",
            "Initial set - {1708}\n",
            "Steps - 1\n",
            "Activated nodes - {1708}\n",
            "\n",
            "Initial set - {8512}\n",
            "Steps - 153\n",
            "Activated nodes - {2567, 4106, 8207, 3088, 5650, 6164, 9237, 3094, 3608, 1561, 544, 10279, 7719, 7207, 42, 10794, 2090, 1581, 556, 3636, 8758, 1086, 575, 585, 7242, 2645, 8278, 3161, 8807, 8808, 3178, 6257, 8308, 8309, 6265, 6267, 2684, 8316, 5765, 3718, 5254, 650, 8334, 6803, 8852, 9882, 5790, 9376, 5799, 9895, 6318, 2223, 10932, 10424, 7353, 7864, 3258, 7356, 1216, 704, 1218, 7872, 5322, 9419, 7371, 1746, 2771, 4820, 736, 4321, 1249, 9444, 1764, 10470, 8940, 1773, 3311, 7924, 10997, 1780, 5879, 253, 9982, 255, 3843, 4867, 3845, 7948, 10511, 5904, 785, 4373, 792, 10012, 3872, 293, 7461, 10027, 5933, 6445, 307, 2868, 5433, 10043, 8512, 1860, 330, 2893, 334, 1360, 8539, 2910, 5983, 8041, 9066, 8555, 7533, 10102, 4470, 9591, 4989, 6014, 3970, 7043, 2948, 10631, 10642, 5522, 5525, 7067, 1444, 9636, 4520, 6057, 1449, 7603, 9656, 8120, 3007, 1475, 9675, 2004, 3030, 7639, 5591, 8153, 6618, 4057, 4060, 479, 8165, 4586, 4079}\n",
            "\n",
            "Initial set - {10352}\n",
            "Steps - 2\n",
            "Activated nodes - {10352, 1547}\n",
            "\n",
            "Initial set - {10427}\n",
            "Steps - 1\n",
            "Activated nodes - {10427}\n",
            "\n",
            "Initial set - {10878}\n",
            "Steps - 2\n",
            "Activated nodes - {10878, 10479}\n",
            "\n",
            "Initial set - {8220}\n",
            "Steps - 1\n",
            "Activated nodes - {8220}\n",
            "\n",
            "Initial set - {4274}\n",
            "Steps - 17\n",
            "Activated nodes - {4321, 10274, 8065, 2212, 10759, 3111, 1576, 3434, 8299, 2351, 8688, 4241, 4274, 9044, 10967, 7386, 3327}\n",
            "\n"
          ]
        }
      ]
    }
  ]
}