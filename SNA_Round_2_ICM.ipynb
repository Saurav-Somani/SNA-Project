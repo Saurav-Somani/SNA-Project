{
  "nbformat": 4,
  "nbformat_minor": 0,
  "metadata": {
    "colab": {
      "name": "SNA_Round_2_ICM.ipynb",
      "provenance": [],
      "collapsed_sections": [],
      "authorship_tag": "ABX9TyO6DHqq0k1hgaCn1VJI8xeC",
      "include_colab_link": true
    },
    "kernelspec": {
      "name": "python3",
      "display_name": "Python 3"
    },
    "language_info": {
      "name": "python"
    }
  },
  "cells": [
    {
      "cell_type": "markdown",
      "metadata": {
        "id": "view-in-github",
        "colab_type": "text"
      },
      "source": [
        "<a href=\"https://colab.research.google.com/github/Saurav-Somani/SNA-Project/blob/Round-2/SNA_Round_2_ICM.ipynb\" target=\"_parent\"><img src=\"https://colab.research.google.com/assets/colab-badge.svg\" alt=\"Open In Colab\"/></a>"
      ]
    },
    {
      "cell_type": "markdown",
      "source": [
        "**Creating scale free network**"
      ],
      "metadata": {
        "id": "GqRFetd7Tc0M"
      }
    },
    {
      "cell_type": "code",
      "source": [
        "from networkx import *\n",
        "import matplotlib.pyplot as plt\n",
        "import math\n",
        "import itertools\n",
        "from queue import Queue\n",
        "import numpy as np\n",
        "import numpy.random\n",
        "import pylab\n",
        "import random\n",
        "\n",
        "g = barabasi_albert_graph(10000, 250)\n",
        "\n",
        "\n",
        "set_edge_attributes(g, values=0, name='weight')\n",
        "arr = [[False] * 10000 for i in range(10000)]\n",
        "vis = set()\n",
        "q = Queue()\n",
        "vis.add(0)\n",
        "q.put(0)\n",
        "\n",
        "while not q.empty():\n",
        "    u = q.get()\n",
        "\n",
        "    vis.add(u)\n",
        "    x = 1\n",
        "    f = 0\n",
        "\n",
        "    for v in g.neighbors(u):\n",
        "        if v not in vis:\n",
        "            vis.add(v)\n",
        "            q.put(v)\n",
        "\n",
        "        if arr[u][v] is True or arr[v][u] is True:\n",
        "            x -= g[u][v]['weight']\n",
        "        else:\n",
        "            f += 1\n",
        "\n",
        "    k = 0\n",
        "    lst = np.random.dirichlet(np.ones(f), size=1).tolist()[0]\n",
        "\n",
        "    for v in g.neighbors(u):\n",
        "        if arr[u][v] is False or arr[v][u] is False:\n",
        "            arr[u][v] = arr[v][u] = True\n",
        "            g[u][v]['weight'] = lst[k] * max(x, 0)\n",
        "            k += 1\n",
        "\n",
        "\n",
        "\n",
        "\n",
        "nodes =[]\n",
        "num_steps = []\n",
        "\n",
        "for itr in range(0, 10):\n",
        "    r = random.randint(0, 10000)\n",
        "    vis = set()\n",
        "    q = Queue()\n",
        "    q.put(r)\n",
        "    activated = []\n",
        "    activated.append(r)\n",
        "    steps = 0\n",
        "    print(\"Initial set - \" + str(activated))\n",
        "\n",
        "    while not q.empty():\n",
        "        steps += 1\n",
        "        u = q.get()\n",
        "\n",
        "        for v in g.neighbors(u):\n",
        "            if v not in activated:\n",
        "                rand = random.uniform(0, 1)\n",
        "                if rand < g[u][v]['weight']:\n",
        "                    q.put(v)\n",
        "                    activated.append(v)\n",
        "\n",
        "    print(\"Steps - \" + str(steps))\n",
        "    print(\"Activated nodes - \" + str(activated))\n",
        "    num_steps.append(steps)\n",
        "    nodes.append(len(activated))\n",
        "    print()\n",
        "\n",
        "    \n",
        "print(\"The average number of steps are\" , sum(num_steps)/10)\n"
      ],
      "metadata": {
        "colab": {
          "base_uri": "https://localhost:8080/"
        },
        "id": "iJkGhP4OS4TJ",
        "outputId": "178d3e74-6bbc-445b-8505-65dde06c7e5d"
      },
      "execution_count": 9,
      "outputs": [
        {
          "output_type": "stream",
          "name": "stdout",
          "text": [
            "Initial set - [7048]\n",
            "Steps - 61\n",
            "Activated nodes - [7048, 5148, 3965, 328, 6734, 2974, 13, 2117, 6037, 2284, 9532, 1381, 730, 7624, 9917, 7784, 43, 2758, 7293, 6346, 418, 4680, 6365, 1591, 6488, 6842, 2579, 2324, 4370, 6835, 4477, 8637, 9562, 4620, 2858, 7209, 5694, 6294, 1805, 5678, 285, 3771, 1372, 2963, 611, 954, 1231, 9591, 4647, 7240, 5299, 2900, 7935, 1646, 2292, 5770, 7783, 7296, 4064, 5906, 5551]\n",
            "\n",
            "Initial set - [9598]\n",
            "Steps - 2\n",
            "Activated nodes - [9598, 4336]\n",
            "\n",
            "Initial set - [7279]\n",
            "Steps - 2\n",
            "Activated nodes - [7279, 4390]\n",
            "\n",
            "Initial set - [8063]\n",
            "Steps - 6\n",
            "Activated nodes - [8063, 3118, 4940, 8098, 9440, 5630]\n",
            "\n",
            "Initial set - [9545]\n",
            "Steps - 40\n",
            "Activated nodes - [9545, 6722, 632, 3551, 5272, 8801, 811, 401, 9491, 4624, 113, 4563, 656, 4946, 478, 4264, 4265, 2645, 9621, 1168, 6760, 9033, 5890, 8852, 2157, 4858, 3973, 2482, 6198, 482, 7515, 7997, 2559, 144, 8045, 3782, 1933, 8720, 3319, 4782]\n",
            "\n",
            "Initial set - [8080]\n",
            "Steps - 4\n",
            "Activated nodes - [8080, 9809, 7202, 7376]\n",
            "\n",
            "Initial set - [6026]\n",
            "Steps - 4\n",
            "Activated nodes - [6026, 4329, 9147, 5122]\n",
            "\n",
            "Initial set - [7279]\n",
            "Steps - 9\n",
            "Activated nodes - [7279, 2202, 3611, 3544, 5941, 2060, 1159, 3492, 1647]\n",
            "\n",
            "Initial set - [476]\n",
            "Steps - 1\n",
            "Activated nodes - [476]\n",
            "\n",
            "Initial set - [4539]\n",
            "Steps - 1\n",
            "Activated nodes - [4539]\n",
            "\n",
            "The average number of steps are 13.0\n"
          ]
        }
      ]
    },
    {
      "cell_type": "code",
      "source": [
        "draw_random(g, with_labels = True)\n",
        "plt.savefig(\"fig1.png\")"
      ],
      "metadata": {
        "colab": {
          "base_uri": "https://localhost:8080/",
          "height": 319
        },
        "id": "uLRGjGhm90zC",
        "outputId": "03bb670b-c11a-46dc-89b4-9e43ebd5680b"
      },
      "execution_count": null,
      "outputs": [
        {
          "output_type": "display_data",
          "data": {
            "text/plain": [
              "<Figure size 432x288 with 1 Axes>"
            ],
            "image/png": "[encoded data removed]"
          },
          "metadata": {}
        }
      ]
    }
  ]
}